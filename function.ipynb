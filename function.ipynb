{
 "cells": [
  {
   "cell_type": "code",
   "execution_count": 1,
   "metadata": {},
   "outputs": [
    {
     "name": "stdout",
     "output_type": "stream",
     "text": [
      "Prime Number Is: 13\n",
      "Prime Number Is: 17\n",
      "Prime Number Is: 19\n",
      "Prime Number Is: 23\n"
     ]
    }
   ],
   "source": [
    "#FIND PRIME NUMBER IN A LIST AND PRINT IT\n",
    "def prime(num):\n",
    "    c=0\n",
    "    for i in range(2,num,1):\n",
    "      if(num%i==0):\n",
    "         c=c+1\n",
    "         break\n",
    "    if(c==0):\n",
    "       return True\n",
    "    else:\n",
    "       return False\n",
    "list=[12,13,17,19,22,24,23,26,51,45,18,96,42]\n",
    "for i in list:\n",
    "   c=prime(i)\n",
    "   if(c==True):\n",
    "      print(\"Prime Number Is:\",i)"
   ]
  }
 ],
 "metadata": {
  "kernelspec": {
   "display_name": "Python 3",
   "language": "python",
   "name": "python3"
  },
  "language_info": {
   "codemirror_mode": {
    "name": "ipython",
    "version": 3
   },
   "file_extension": ".py",
   "mimetype": "text/x-python",
   "name": "python",
   "nbconvert_exporter": "python",
   "pygments_lexer": "ipython3",
   "version": "3.10.12"
  },
  "orig_nbformat": 4
 },
 "nbformat": 4,
 "nbformat_minor": 2
}
