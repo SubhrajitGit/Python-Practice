{
 "cells": [
  {
   "cell_type": "code",
   "execution_count": null,
   "metadata": {},
   "outputs": [],
   "source": [
    "#KEYWORD AS ARGUMENT"
   ]
  },
  {
   "cell_type": "code",
   "execution_count": 1,
   "metadata": {},
   "outputs": [
    {
     "name": "stdout",
     "output_type": "stream",
     "text": [
      "Subhrajit Suvendu Pabitra\n"
     ]
    }
   ],
   "source": [
    "def func(k1,k2,k3):\n",
    "    print(k1,k2,k3)\n",
    "func(k1=\"Subhrajit\",k2=\"Suvendu\",k3=\"Pabitra\")"
   ]
  },
  {
   "cell_type": "markdown",
   "metadata": {},
   "source": [
    "#DEFAULT PARAMETER WITH VALUE"
   ]
  },
  {
   "cell_type": "code",
   "execution_count": 3,
   "metadata": {},
   "outputs": [
    {
     "name": "stdout",
     "output_type": "stream",
     "text": [
      "I am from: Cuttack\n",
      "I am from: BBSR\n",
      "I am from: JAGATSINGHPUR\n"
     ]
    }
   ],
   "source": [
    "def func1(city=\"JAGATSINGHPUR\"):\n",
    "    print(\"I am from:\",city)\n",
    "func1(\"Cuttack\")\n",
    "func1(\"BBSR\")\n",
    "func1()"
   ]
  },
  {
   "cell_type": "markdown",
   "metadata": {},
   "source": [
    "#LAMBDA FUNCTION/ANONYMOUS FUNCTION"
   ]
  },
  {
   "cell_type": "code",
   "execution_count": 3,
   "metadata": {},
   "outputs": [
    {
     "name": "stdout",
     "output_type": "stream",
     "text": [
      "15\n",
      "20\n"
     ]
    }
   ],
   "source": [
    "x=lambda a:a+10\n",
    "print(x(5))\n",
    "y=lambda a,b:a*b\n",
    "print(y(5,4))"
   ]
  },
  {
   "cell_type": "code",
   "execution_count": 11,
   "metadata": {},
   "outputs": [
    {
     "name": "stdout",
     "output_type": "stream",
     "text": [
      "list is not Prime\n"
     ]
    }
   ],
   "source": [
    "#CHECK LIST ITEM IS PRIME OR NOT\n",
    "def check(list):\n",
    "    c=0\n",
    "    size=len(list)\n",
    "    for i in list:\n",
    "        for j in range(2,i):\n",
    "            if(i%j==0):\n",
    "                c=c+1\n",
    "    if(c==size):\n",
    "        return True\n",
    "    else:\n",
    "        return False\n",
    "list=[3,5,7]\n",
    "c1=check(list)\n",
    "if(c1==True):\n",
    "    print(\"List is Prime\")\n",
    "else:\n",
    "    print(\"list is not Prime\")"
   ]
  },
  {
   "cell_type": "code",
   "execution_count": 10,
   "metadata": {},
   "outputs": [
    {
     "name": "stdout",
     "output_type": "stream",
     "text": [
      "3\n",
      "5\n",
      "7\n"
     ]
    }
   ],
   "source": [
    "list=[3,5,7]\n",
    "for i in list:\n",
    "    print(i)"
   ]
  }
 ],
 "metadata": {
  "kernelspec": {
   "display_name": "Python 3",
   "language": "python",
   "name": "python3"
  },
  "language_info": {
   "codemirror_mode": {
    "name": "ipython",
    "version": 3
   },
   "file_extension": ".py",
   "mimetype": "text/x-python",
   "name": "python",
   "nbconvert_exporter": "python",
   "pygments_lexer": "ipython3",
   "version": "3.10.12"
  },
  "orig_nbformat": 4
 },
 "nbformat": 4,
 "nbformat_minor": 2
}
