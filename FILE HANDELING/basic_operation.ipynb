{
 "cells": [
  {
   "cell_type": "code",
   "execution_count": null,
   "metadata": {},
   "outputs": [],
   "source": [
    "#CREATE FILE\n",
    "#SYNTAX:open(\"file name\",\"permisiion\")"
   ]
  },
  {
   "cell_type": "code",
   "execution_count": 1,
   "metadata": {},
   "outputs": [
    {
     "name": "stdout",
     "output_type": "stream",
     "text": [
      "File Created\n"
     ]
    }
   ],
   "source": [
    "file=open(\"f1.txt\",\"w\")\n",
    "s=\"Hello this is first file program in python:\"\n",
    "file.write(s)\n",
    "print(\"File Created\")\n",
    "file.close()"
   ]
  },
  {
   "cell_type": "code",
   "execution_count": 2,
   "metadata": {},
   "outputs": [
    {
     "name": "stdout",
     "output_type": "stream",
     "text": [
      "Hello this is first file program in python:\n"
     ]
    }
   ],
   "source": [
    "file=open(\"f1.txt\",\"r\")\n",
    "filecontent=file.read()\n",
    "print(filecontent)\n",
    "file.close()"
   ]
  },
  {
   "cell_type": "code",
   "execution_count": 2,
   "metadata": {},
   "outputs": [
    {
     "name": "stdout",
     "output_type": "stream",
     "text": [
      "LIST ARE WRITTEN\n"
     ]
    }
   ],
   "source": [
    "#LIST STORE IN FILE\n",
    "file=open(\"f1.txt\",\"w+\")\n",
    "program=[\"python\",\"c\",\"c++\",\"JAVA\",\"PYTHON\"]\n",
    "file.writelines(program)\n",
    "print(\"LIST ARE WRITTEN\")\n",
    "file.close()"
   ]
  },
  {
   "cell_type": "code",
   "execution_count": 3,
   "metadata": {},
   "outputs": [
    {
     "name": "stdout",
     "output_type": "stream",
     "text": [
      "LIST ARE WRITTEN\n"
     ]
    }
   ],
   "source": [
    "#APEEND FILE\n",
    "file=open(\"f1.txt\",\"a\")\n",
    "program=[\"apple\",\"mango\",\"cherry\",\"Jackfruit\"]\n",
    "file.writelines(program)\n",
    "print(\"LIST ARE WRITTEN\")\n",
    "file.close()"
   ]
  }
 ],
 "metadata": {
  "kernelspec": {
   "display_name": "Python 3",
   "language": "python",
   "name": "python3"
  },
  "language_info": {
   "codemirror_mode": {
    "name": "ipython",
    "version": 3
   },
   "file_extension": ".py",
   "mimetype": "text/x-python",
   "name": "python",
   "nbconvert_exporter": "python",
   "pygments_lexer": "ipython3",
   "version": "3.10.12"
  },
  "orig_nbformat": 4
 },
 "nbformat": 4,
 "nbformat_minor": 2
}
