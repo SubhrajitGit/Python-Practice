{
 "cells": [
  {
   "cell_type": "code",
   "execution_count": 5,
   "metadata": {},
   "outputs": [
    {
     "name": "stdout",
     "output_type": "stream",
     "text": [
      "Number is: 8\n",
      "RANDOM NUMBER IS: 407\n",
      "['Banana', 'mango', 'aplle']\n"
     ]
    }
   ],
   "source": [
    "# IMPORT CHOICE FROM RANDOM MODULE\n",
    "from random import choice,randint,shuffle\n",
    "list=[1,2,3,4,5,6,7,8,9]\n",
    "print(\"Number is:\",choice(list))\n",
    "#RAND INT\n",
    "print(\"RANDOM NUMBER IS:\",randint(100,500))\n",
    "#SHUFFLE\n",
    "l=[\"apple\",\"mango\",\"Banana\"]\n",
    "shuffle(l)\n",
    "print(l)"
   ]
  },
  {
   "cell_type": "markdown",
   "metadata": {},
   "source": [
    "#MATH MODULE"
   ]
  },
  {
   "cell_type": "code",
   "execution_count": 13,
   "metadata": {},
   "outputs": [
    {
     "name": "stdout",
     "output_type": "stream",
     "text": [
      "Factorial is: 120\n",
      "POWER OF A NUMBER: 8.0\n",
      "CEIL OF A NUMBER: 3\n",
      "FLOOR OF A NUMBER: 2\n",
      "LOG OF A NUMBER: 0.0\n"
     ]
    }
   ],
   "source": [
    "import math\n",
    "#FACTORIAL OF A NUMBER\n",
    "print(\"Factorial is:\",math.factorial(5))\n",
    "#POWER OF A NUMBER\n",
    "print(\"POWER OF A NUMBER:\",math.pow(2,3))\n",
    "#CEIL OF A NUMBER\n",
    "print(\"CEIL OF A NUMBER:\",math.ceil(2.4))\n",
    "#FLOOR OF A NUMBER\n",
    "print(\"FLOOR OF A NUMBER:\",math.floor(2.4))\n",
    "#LOG OF A NUMBER\n",
    "print(\"LOG OF A NUMBER:\",math.log(1))"
   ]
  }
 ],
 "metadata": {
  "kernelspec": {
   "display_name": "Python 3",
   "language": "python",
   "name": "python3"
  },
  "language_info": {
   "codemirror_mode": {
    "name": "ipython",
    "version": 3
   },
   "file_extension": ".py",
   "mimetype": "text/x-python",
   "name": "python",
   "nbconvert_exporter": "python",
   "pygments_lexer": "ipython3",
   "version": "3.10.12"
  },
  "orig_nbformat": 4
 },
 "nbformat": 4,
 "nbformat_minor": 2
}
