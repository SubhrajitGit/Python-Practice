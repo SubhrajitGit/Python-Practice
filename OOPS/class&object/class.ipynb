{
 "cells": [
  {
   "cell_type": "code",
   "execution_count": 1,
   "metadata": {},
   "outputs": [
    {
     "name": "stdout",
     "output_type": "stream",
     "text": [
      "<class '__main__.myclass'>\n"
     ]
    }
   ],
   "source": [
    "#CREATE A CLASS\n",
    "class myclass:\n",
    "    x=5#property of class\n",
    "print(myclass)"
   ]
  },
  {
   "cell_type": "code",
   "execution_count": 3,
   "metadata": {},
   "outputs": [
    {
     "name": "stdout",
     "output_type": "stream",
     "text": [
      "5\n"
     ]
    }
   ],
   "source": [
    "#ACESS PROPERTY OF CLASS\n",
    "#CREATE A CLASS\n",
    "class myclass:\n",
    "    x=5#property of class\n",
    "#create object of class\n",
    "m1=myclass()\n",
    "print(m1.x)"
   ]
  },
  {
   "cell_type": "code",
   "execution_count": 8,
   "metadata": {},
   "outputs": [
    {
     "name": "stdout",
     "output_type": "stream",
     "text": [
      "I am inside the function\n"
     ]
    }
   ],
   "source": [
    "#CALLING A FUNCTION BY OBJECT\n",
    "#CREATE A CLASS\n",
    "class myclass:\n",
    "    def sum(self):\n",
    "        print(\"I am inside the function\")\n",
    "m1=myclass()\n",
    "m1.sum()\n"
   ]
  },
  {
   "cell_type": "code",
   "execution_count": 9,
   "metadata": {},
   "outputs": [
    {
     "name": "stdout",
     "output_type": "stream",
     "text": [
      "I am accesing Constructor\n"
     ]
    }
   ],
   "source": [
    "#CREATING A CONSTRUCTOR\n",
    "class myclass:\n",
    "    def __init__(seelf):\n",
    "        print(\"I am accesing Constructor\")\n",
    "m1=myclass()"
   ]
  },
  {
   "cell_type": "code",
   "execution_count": 16,
   "metadata": {},
   "outputs": [
    {
     "name": "stdout",
     "output_type": "stream",
     "text": [
      "My nam is: subhrajit age is: 21\n",
      "My nam is: subhrajit age is: 22\n",
      "My nam is: Pabitra age is: 26\n"
     ]
    },
    {
     "ename": "AttributeError",
     "evalue": "'myclass' object has no attribute 'age'",
     "output_type": "error",
     "traceback": [
      "\u001b[0;31m---------------------------------------------------------------------------\u001b[0m",
      "\u001b[0;31mAttributeError\u001b[0m                            Traceback (most recent call last)",
      "Cell \u001b[0;32mIn[16], line 18\u001b[0m\n\u001b[1;32m     16\u001b[0m \u001b[39m#DELETE OBJECT\u001b[39;00m\n\u001b[1;32m     17\u001b[0m \u001b[39mdel\u001b[39;00m m2\u001b[39m.\u001b[39mage\n\u001b[0;32m---> 18\u001b[0m \u001b[39mprint\u001b[39m(m2\u001b[39m.\u001b[39;49mage)\n",
      "\u001b[0;31mAttributeError\u001b[0m: 'myclass' object has no attribute 'age'"
     ]
    }
   ],
   "source": [
    "#CHANGE VALUE USING OBJECT\n",
    "class myclass:\n",
    "    def __init__(self,name,age):\n",
    "        self.name=name\n",
    "        self.age=age\n",
    "\n",
    "    def myFunction(self):\n",
    "        print(\"My nam is:\",self.name,\"age is:\",self.age)\n",
    "m1=myclass(\"subhrajit\",21)\n",
    "m1.myFunction()\n",
    "m1.age=22\n",
    "m1.myFunction()\n",
    "m2=myclass(\"Pabitra\",22)\n",
    "m2.age=26\n",
    "m2.myFunction()\n",
    "#DELETE OBJECT\n",
    "del m2.age\n",
    "print(m2.age)"
   ]
  }
 ],
 "metadata": {
  "kernelspec": {
   "display_name": "Python 3",
   "language": "python",
   "name": "python3"
  },
  "language_info": {
   "codemirror_mode": {
    "name": "ipython",
    "version": 3
   },
   "file_extension": ".py",
   "mimetype": "text/x-python",
   "name": "python",
   "nbconvert_exporter": "python",
   "pygments_lexer": "ipython3",
   "version": "3.10.12"
  },
  "orig_nbformat": 4
 },
 "nbformat": 4,
 "nbformat_minor": 2
}
