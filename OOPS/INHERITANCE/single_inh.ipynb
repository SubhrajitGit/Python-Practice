{
 "cells": [
  {
   "cell_type": "code",
   "execution_count": 2,
   "metadata": {},
   "outputs": [
    {
     "name": "stdout",
     "output_type": "stream",
     "text": [
      "This is Parent Class function\n",
      "This is Child Class function\n"
     ]
    }
   ],
   "source": [
    "class parent:\n",
    "    def parent_function(self):\n",
    "        print(\"This is Parent Class function\")\n",
    "class child(parent):\n",
    "    def child_function(self):\n",
    "        print(\"This is Child Class function\")\n",
    "#OBJECT OF CHILD ACCESS\n",
    "c1=child()\n",
    "c1.parent_function()#ACCESING PARENT FUNCTION\n",
    "c1.child_function()#CHILD CLASS FUNCTION"
   ]
  }
 ],
 "metadata": {
  "kernelspec": {
   "display_name": "Python 3",
   "language": "python",
   "name": "python3"
  },
  "language_info": {
   "codemirror_mode": {
    "name": "ipython",
    "version": 3
   },
   "file_extension": ".py",
   "mimetype": "text/x-python",
   "name": "python",
   "nbconvert_exporter": "python",
   "pygments_lexer": "ipython3",
   "version": "3.10.12"
  },
  "orig_nbformat": 4
 },
 "nbformat": 4,
 "nbformat_minor": 2
}
