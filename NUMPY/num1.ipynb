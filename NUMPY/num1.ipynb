{
 "cells": [
  {
   "cell_type": "code",
   "execution_count": 8,
   "metadata": {},
   "outputs": [
    {
     "name": "stdout",
     "output_type": "stream",
     "text": [
      "[ 2  3  4 75 86 95]\n",
      "int64\n",
      "[ 2  3 25 75 86 95]\n"
     ]
    }
   ],
   "source": [
    "import numpy as np\n",
    "my_array=np.array([2,3,4,75,86,95],np.int64)\n",
    "print(my_array)\n",
    "print(my_array.dtype)\n",
    "my_array[2]=45\n",
    "print(my_array)"
   ]
  },
  {
   "cell_type": "code",
   "execution_count": 12,
   "metadata": {},
   "outputs": [
    {
     "name": "stdout",
     "output_type": "stream",
     "text": [
      "[[1 2 3]\n",
      " [4 5 6]\n",
      " [7 8 9]]\n",
      "int64\n",
      "9\n"
     ]
    }
   ],
   "source": [
    "import numpy as np\n",
    "my_arr=np.array([[1,2,3],[4,5,6],[7,8,9]])\n",
    "print(my_arr)\n",
    "print(my_arr.dtype)\n",
    "print(my_arr.size)"
   ]
  },
  {
   "cell_type": "code",
   "execution_count": 16,
   "metadata": {},
   "outputs": [],
   "source": [
    "zeros=np.zeros((2, 5))"
   ]
  },
  {
   "cell_type": "code",
   "execution_count": 17,
   "metadata": {},
   "outputs": [
    {
     "name": "stdout",
     "output_type": "stream",
     "text": [
      "[[0. 0. 0. 0. 0.]\n",
      " [0. 0. 0. 0. 0.]]\n"
     ]
    }
   ],
   "source": [
    "print(zeros)"
   ]
  },
  {
   "cell_type": "code",
   "execution_count": 18,
   "metadata": {},
   "outputs": [
    {
     "name": "stdout",
     "output_type": "stream",
     "text": [
      "[ 0  1  2  3  4  5  6  7  8  9 10 11 12 13 14]\n"
     ]
    }
   ],
   "source": [
    "#arrange()\n",
    "rng=np.arange(15)\n",
    "print(rng)"
   ]
  },
  {
   "cell_type": "code",
   "execution_count": 19,
   "metadata": {},
   "outputs": [
    {
     "name": "stdout",
     "output_type": "stream",
     "text": [
      "[ 1.          6.44444444 11.88888889 17.33333333 22.77777778 28.22222222\n",
      " 33.66666667 39.11111111 44.55555556 50.        ]\n"
     ]
    }
   ],
   "source": [
    "#linspace\n",
    "lspace=np.linspace(1,50,10)\n",
    "print(lspace)"
   ]
  },
  {
   "cell_type": "code",
   "execution_count": 20,
   "metadata": {},
   "outputs": [
    {
     "name": "stdout",
     "output_type": "stream",
     "text": [
      "[[ 1  4  9]\n",
      " [28 40 54]]\n"
     ]
    }
   ],
   "source": [
    "ar=np.array([[1,2,3],[4,5,6]])\n",
    "ar1=np.array([[1,2,3],[7,8,9]])\n",
    "print(ar*ar1)"
   ]
  }
 ],
 "metadata": {
  "kernelspec": {
   "display_name": "Python 3",
   "language": "python",
   "name": "python3"
  },
  "language_info": {
   "codemirror_mode": {
    "name": "ipython",
    "version": 3
   },
   "file_extension": ".py",
   "mimetype": "text/x-python",
   "name": "python",
   "nbconvert_exporter": "python",
   "pygments_lexer": "ipython3",
   "version": "3.10.12"
  },
  "orig_nbformat": 4
 },
 "nbformat": 4,
 "nbformat_minor": 2
}
