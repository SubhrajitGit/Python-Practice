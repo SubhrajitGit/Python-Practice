{
 "cells": [
  {
   "cell_type": "markdown",
   "metadata": {},
   "source": [
    "#ACESS ELEMENT IN DICTIONARY"
   ]
  },
  {
   "cell_type": "code",
   "execution_count": 7,
   "metadata": {},
   "outputs": [
    {
     "name": "stdout",
     "output_type": "stream",
     "text": [
      "apple oraange mango grapes apple\n",
      "mango\n",
      "dict_items([(1, 'apple'), (2, 'oraange'), (3, 'mango'), (4, 'grapes')])\n"
     ]
    }
   ],
   "source": [
    "dict={1:\"apple\",2:\"oraange\",3:\"mango\",4:\"grapes\"}\n",
    "#USING FOR LOOP\n",
    "for i in dict:\n",
    "    print(dict[i],end=\" \")\n",
    "x=dict[1]\n",
    "print(x)\n",
    "#USING GET METHOD\n",
    "print(dict.get(3))\n",
    "#USING ITEMS\n",
    "print(\"\\n\")\n",
    "z=dict.items()\n",
    "print(z)"
   ]
  },
  {
   "cell_type": "markdown",
   "metadata": {},
   "source": [
    "#CHANGE VALUE"
   ]
  },
  {
   "cell_type": "code",
   "execution_count": 8,
   "metadata": {},
   "outputs": [
    {
     "name": "stdout",
     "output_type": "stream",
     "text": [
      "{1: 'apple', 2: 'oraange', 3: 'kiwi', 4: 'grapes'}\n"
     ]
    }
   ],
   "source": [
    "dict={1:\"apple\",2:\"oraange\",3:\"mango\",4:\"grapes\"}\n",
    "dict[3]=\"kiwi\"\n",
    "print(dict)"
   ]
  },
  {
   "cell_type": "markdown",
   "metadata": {},
   "source": [
    "#UPDATE DICTIONARY"
   ]
  },
  {
   "cell_type": "code",
   "execution_count": 9,
   "metadata": {},
   "outputs": [
    {
     "name": "stdout",
     "output_type": "stream",
     "text": [
      "{1: 'apple', 2: 'oraange', 3: 'Sour', 4: 'grapes'}\n"
     ]
    }
   ],
   "source": [
    "dict={1:\"apple\",2:\"oraange\",3:\"mango\",4:\"grapes\"}\n",
    "dict.update({3:\"Sour\"})\n",
    "print(dict)"
   ]
  },
  {
   "cell_type": "markdown",
   "metadata": {},
   "source": [
    "#REMOVE VALUE FROM DICTIONARY"
   ]
  },
  {
   "cell_type": "code",
   "execution_count": 11,
   "metadata": {},
   "outputs": [
    {
     "name": "stdout",
     "output_type": "stream",
     "text": [
      "CURRENT DICTIONARY: {1: 'apple', 2: 'orange', 3: 'mango', 4: 'grapes'}\n",
      "CHANGE DICTIONARY: {1: 'apple', 3: 'mango', 4: 'grapes'}\n",
      "{1: 'apple', 3: 'mango'}\n"
     ]
    }
   ],
   "source": [
    "dict={1:\"apple\",2:\"orange\",3:\"mango\",4:\"grapes\"}\n",
    "print(\"CURRENT DICTIONARY:\",dict)\n",
    "dict.pop(2)\n",
    "print(\"CHANGE DICTIONARY:\",dict)\n",
    "#popitems\n",
    "dict.popitem()\n",
    "print(dict)\n",
    "#DELETE METHOD\n"
   ]
  },
  {
   "cell_type": "markdown",
   "metadata": {},
   "source": [
    "#ACESS KEYS and VALUES"
   ]
  },
  {
   "cell_type": "code",
   "execution_count": 14,
   "metadata": {},
   "outputs": [
    {
     "name": "stdout",
     "output_type": "stream",
     "text": [
      "dict_keys([1, 2, 3, 4])\n",
      "dict_values(['apple', 'orange', 'mango', 'grapes'])\n"
     ]
    }
   ],
   "source": [
    "dict={1:\"apple\",2:\"orange\",3:\"mango\",4:\"grapes\"}\n",
    "print(dict.keys())\n",
    "print(dict.values())"
   ]
  }
 ],
 "metadata": {
  "kernelspec": {
   "display_name": "Python 3",
   "language": "python",
   "name": "python3"
  },
  "language_info": {
   "codemirror_mode": {
    "name": "ipython",
    "version": 3
   },
   "file_extension": ".py",
   "mimetype": "text/x-python",
   "name": "python",
   "nbconvert_exporter": "python",
   "pygments_lexer": "ipython3",
   "version": "3.10.12"
  },
  "orig_nbformat": 4
 },
 "nbformat": 4,
 "nbformat_minor": 2
}
